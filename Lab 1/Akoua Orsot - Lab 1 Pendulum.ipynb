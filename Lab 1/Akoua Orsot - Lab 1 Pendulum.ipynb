{
 "cells": [
  {
   "cell_type": "code",
   "execution_count": 1,
   "id": "b4a56085-bff4-4894-9772-dd893d4447e9",
   "metadata": {},
   "outputs": [],
   "source": [
    "## Importing libraries\n",
    "import pandas as pd\n",
    "import numpy as np\n",
    "\n",
    "import matplotlib.pyplot as plt\n",
    "import seaborn as sns"
   ]
  },
  {
   "cell_type": "code",
   "execution_count": 15,
   "id": "85b82d68-e344-410c-ac8a-b17398aefe0a",
   "metadata": {},
   "outputs": [
    {
     "data": {
      "text/html": [
       "<div>\n",
       "<style scoped>\n",
       "    .dataframe tbody tr th:only-of-type {\n",
       "        vertical-align: middle;\n",
       "    }\n",
       "\n",
       "    .dataframe tbody tr th {\n",
       "        vertical-align: top;\n",
       "    }\n",
       "\n",
       "    .dataframe thead th {\n",
       "        text-align: right;\n",
       "    }\n",
       "</style>\n",
       "<table border=\"1\" class=\"dataframe\">\n",
       "  <thead>\n",
       "    <tr style=\"text-align: right;\">\n",
       "      <th></th>\n",
       "      <th>theta</th>\n",
       "      <th>V(theta)</th>\n",
       "    </tr>\n",
       "  </thead>\n",
       "  <tbody>\n",
       "    <tr>\n",
       "      <th>0</th>\n",
       "      <td>180</td>\n",
       "      <td>772.1</td>\n",
       "    </tr>\n",
       "    <tr>\n",
       "      <th>1</th>\n",
       "      <td>160</td>\n",
       "      <td>718.2</td>\n",
       "    </tr>\n",
       "    <tr>\n",
       "      <th>2</th>\n",
       "      <td>140</td>\n",
       "      <td>669.8</td>\n",
       "    </tr>\n",
       "    <tr>\n",
       "      <th>3</th>\n",
       "      <td>120</td>\n",
       "      <td>595.7</td>\n",
       "    </tr>\n",
       "    <tr>\n",
       "      <th>4</th>\n",
       "      <td>100</td>\n",
       "      <td>572.6</td>\n",
       "    </tr>\n",
       "    <tr>\n",
       "      <th>5</th>\n",
       "      <td>80</td>\n",
       "      <td>470.8</td>\n",
       "    </tr>\n",
       "    <tr>\n",
       "      <th>6</th>\n",
       "      <td>60</td>\n",
       "      <td>432.7</td>\n",
       "    </tr>\n",
       "    <tr>\n",
       "      <th>7</th>\n",
       "      <td>40</td>\n",
       "      <td>382.7</td>\n",
       "    </tr>\n",
       "    <tr>\n",
       "      <th>8</th>\n",
       "      <td>20</td>\n",
       "      <td>296.4</td>\n",
       "    </tr>\n",
       "    <tr>\n",
       "      <th>9</th>\n",
       "      <td>0</td>\n",
       "      <td>223.6</td>\n",
       "    </tr>\n",
       "  </tbody>\n",
       "</table>\n",
       "</div>"
      ],
      "text/plain": [
       "   theta  V(theta)\n",
       "0    180     772.1\n",
       "1    160     718.2\n",
       "2    140     669.8\n",
       "3    120     595.7\n",
       "4    100     572.6\n",
       "5     80     470.8\n",
       "6     60     432.7\n",
       "7     40     382.7\n",
       "8     20     296.4\n",
       "9      0     223.6"
      ]
     },
     "execution_count": 15,
     "metadata": {},
     "output_type": "execute_result"
    }
   ],
   "source": [
    "#Inputing the data\n",
    "calibration = pd.read_csv(r\"C:\\Users\\aorsot1\\Desktop\\ISIM - Lab 1 Calibration Data - Sheet1.csv\")\n",
    "calibration"
   ]
  },
  {
   "cell_type": "code",
   "execution_count": 18,
   "id": "0be34d85-d98b-4a66-8c21-34c55f1d5cd6",
   "metadata": {},
   "outputs": [
    {
     "data": {
      "image/png": "[encoded data removed]",
      "text/plain": [
       "<Figure size 432x288 with 1 Axes>"
      ]
     },
     "metadata": {
      "needs_background": "light"
     },
     "output_type": "display_data"
    }
   ],
   "source": [
    "# Pendulum Motion Graph\n",
    "sns.scatterplot(data=calibration, x= 'theta', y='V(theta)')\n",
    "plt.show()"
   ]
  },
  {
   "cell_type": "code",
   "execution_count": 2,
   "id": "50be7829-a442-419c-89e3-be6aba92f3e5",
   "metadata": {},
   "outputs": [],
   "source": [
    "angles = [*range(180, -1, -20)]\n",
    "column_names = [\"t1\", \"ch1\", \"angle\"]\n",
    "\n",
    "final_df = pd.DataFrame(columns = column_names)"
   ]
  },
  {
   "cell_type": "code",
   "execution_count": 5,
   "id": "721e5e6e-09d1-432c-babf-6dfccc39c21f",
   "metadata": {},
   "outputs": [],
   "source": [
    "frames = []\n",
    "for angle in angles:\n",
    "    file_path = 'C:/Users/aorsot1/Desktop/' + str(angle)+'.csv'\n",
    "    data = pd.read_csv(file_path)\n",
    "    data.drop(['t2', 'ch2'], axis=1, inplace=True)\n",
    "    data['angle'] = angle\n",
    "    frames.append(data)"
   ]
  },
  {
   "cell_type": "code",
   "execution_count": 8,
   "id": "53858ae5-63c7-425d-aa72-cc0390ea1df3",
   "metadata": {},
   "outputs": [],
   "source": [
    "final_df = final_df.append(frames)"
   ]
  },
  {
   "cell_type": "code",
   "execution_count": 12,
   "id": "90100cad-6133-477e-93af-a6316e1596be",
   "metadata": {},
   "outputs": [
    {
     "data": {
      "image/png": "[encoded data removed]",
      "text/plain": [
       "<Figure size 360x360 with 1 Axes>"
      ]
     },
     "metadata": {
      "needs_background": "light"
     },
     "output_type": "display_data"
    }
   ],
   "source": [
    "# Pendulum Motion Graph\n",
    "sns.sin(data=final_df, x= 'angle', y='t1')\n",
    "plt.show()"
   ]
  }
 ],
 "metadata": {
  "kernelspec": {
   "display_name": "Python 3 (ipykernel)",
   "language": "python",
   "name": "python3"
  },
  "language_info": {
   "codemirror_mode": {
    "name": "ipython",
    "version": 3
   },
   "file_extension": ".py",
   "mimetype": "text/x-python",
   "name": "python",
   "nbconvert_exporter": "python",
   "pygments_lexer": "ipython3",
   "version": "3.8.11"
  }
 },
 "nbformat": 4,
 "nbformat_minor": 5
}
